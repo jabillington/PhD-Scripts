# -*- coding: utf-8 -*-
"""
Created on Wed Nov  6 14:11:26 2019

@author: s1655357
"""
import os
import pandas as pd
import numpy as np
from sklearn.preprocessing import LabelEncoder, OneHotEncoder
'''import eli5'''
'''from eli5.sklearn import PermutationImportance'''
from sklearn.model_selection import train_test_split
from sklearn.ensemble import RandomForestRegressor
from sklearn.metrics import mean_absolute_error
import scipy.sparse as sparse
import re
########################################################################################################
os.chdir('M:\Machine_Learning')
random_8kb_sequences = pd.read_csv('1000_8kb_random_samples_upper.tab',sep='\t',names=['Region','Sequence'])

ctr_sequences = pd.read_csv('insulator_library.tab',sep='\t',names=['Region','Sequence'])
insulator_sequences =pd.DataFrame(ctr_sequences['Sequence'])

#combined_sequences=insulator_sequences.append(random_sequences)
#combined_sequences.head()


#random_sample=random_sequences.sample(n=5000,random_state=1)
#insulator_sample=insulator_sequences.sample(n=990,random_state=1)
print((insulator_sequences.iloc[1]))