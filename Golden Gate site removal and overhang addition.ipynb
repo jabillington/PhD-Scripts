{
 "cells": [
  {
   "cell_type": "code",
   "execution_count": null,
   "metadata": {
    "collapsed": true
   },
   "outputs": [],
   "source": [
    "\n",
    "import os\n",
    "import pandas as pd\n",
    "import numpy as np\n",
    "import scipy.sparse as sparse\n",
    "import re\n",
    "########################################################################################################\n",
    "os.chdir('M:\\Machine_Learning') \n",
    "\n",
    "#Import 8kb regions generated in R which contain either a random sample of the genome or a chromatin transition region\n",
    "random_8kb_sequences = pd.read_csv('1000_8kb_random_samples_upper.tab',sep='\\t',names=['Region','Sequence'])\n",
    "sequence_extract=pd.Series(random_8kb_sequences['Sequence'])\n",
    "sliced=sequence_extract.str.slice(start=3500,stop=4500)\n",
    "random_sequences=pd.DataFrame(sliced)\n",
    "random_sequences=random_sequences[0:2761]\n",
    "\n",
    "#Slice out the 1000bp inuslator chunk at the core of each CT\n",
    "ctr_sequences = pd.read_csv('insulator_library.tab',sep='\\t',names=['Region','Sequence'])\n",
    "sequence_extract=pd.Series(ctr_sequences['Sequence'])\n",
    "sliced=sequence_extract.str.slice(start=3500,stop=4500)\n",
    "insulator_sequences=pd.DataFrame(sliced)\n",
    "\n"
   ]
  },
  {
   "cell_type": "code",
   "execution_count": 2,
   "metadata": {},
   "outputs": [
    {
     "data": {
      "text/plain": [
       "0    TTATCTGAAAAATCACAGCTTGGGTGCATGTGAAGCCAGAGGAGCA...\n",
       "1    AGGGCCAGTGTCAGAGCTCCCCTGTGCCCCTGTCCCGCCACAGCCA...\n",
       "2    GTTAACTAAAAAATGCAAAAAAATTAACAGCAGATTAAAGTCAGTG...\n",
       "3    GAGATGCTGGTACACAGTTACTAGGGTATCTTCCCAAAATAAAACC...\n",
       "4    GGGGGAAGAAGGTAGATGAGAACTCTGCAGTTTCTGCTTAGTTTTT...\n",
       "Name: Sequence, dtype: object"
      ]
     },
     "execution_count": 2,
     "metadata": {},
     "output_type": "execute_result"
    }
   ],
   "source": [
    "insulator_sequences['Sequence'].head()"
   ]
  },
  {
   "cell_type": "code",
   "execution_count": null,
   "metadata": {},
   "outputs": [],
   "source": [
    "modified_sequences=insulator_sequences.copy()\n",
    "empty_seqeunce=[]\n",
    "for sequence in modified_sequences['Sequence']:\n",
    "    #print(sequence)\n",
    "    bsa_removed=sequence.replace('GGTCTC','GGACTC')\n",
    "    bsa_removed_rev=bsa_removed.replace('GAGACC','GAGTCC')\n",
    "    bsmb_1_removed=bsa_removed_rev.replace('CGTCTC','CGACTC')\n",
    "    bsmb_1_removed_rev=bsmb_1_removed.replace('GAGACG','GAGTCG')\n",
    "    replaced_seq=bsmb_1_removed_rev\n",
    "    empty_seqeunce.append(replaced_seq)\n",
    "    \n",
    "empty_seqeunce[0:10]"
   ]
  },
  {
   "cell_type": "code",
   "execution_count": null,
   "metadata": {},
   "outputs": [],
   "source": [
    "overhang_data=[]\n",
    "for sequences in empty_seqeunce:\n",
    "    output='aaatatCGTCTCaGTAG'+ sequences + 'GTGAaGAGACGatataaa'\n",
    "    overhang_data.append(output)\n",
    "overhang_data[1]\n"
   ]
  },
  {
   "cell_type": "code",
   "execution_count": null,
   "metadata": {
    "collapsed": true
   },
   "outputs": [],
   "source": [
    "df=pd.DataFrame(overhang_data)\n",
    "df.to_excel(\"insulators_for_synthesis.xlsx\")"
   ]
  }
 ],
 "metadata": {
  "kernelspec": {
   "display_name": "Python 3",
   "language": "python",
   "name": "python3"
  },
  "language_info": {
   "codemirror_mode": {
    "name": "ipython",
    "version": 3
   },
   "file_extension": ".py",
   "mimetype": "text/x-python",
   "name": "python",
   "nbconvert_exporter": "python",
   "pygments_lexer": "ipython3",
   "version": "3.6.1"
  }
 },
 "nbformat": 4,
 "nbformat_minor": 2
}
